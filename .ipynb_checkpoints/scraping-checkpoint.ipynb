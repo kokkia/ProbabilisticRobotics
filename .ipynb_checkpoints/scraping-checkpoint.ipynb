{
 "cells": [
  {
   "cell_type": "code",
   "execution_count": 17,
   "metadata": {},
   "outputs": [],
   "source": [
    "from selenium import webdriver\n",
    "import time\n",
    "import winsound\n",
    "\n",
    "url = \"https://www.amazon.co.jp/dp/4839970254/?coliid=I1ZJO8OMMYWYX2&colid=2T07U8MCOR9GO&psc=1&ref_=lv_ov_lig_dp_it\"\n",
    "# 2000Hzで500ms秒鳴らす\n",
    "# winsound.Beep(2000, 1000)\n",
    "\n",
    "\n",
    "#chromedriverの場所を指定\n",
    "driver = webdriver.Chrome(\"./chromedriver\")\n",
    "driver.get(url)\n",
    "time.sleep(3)\n",
    "element = driver.find_element_by_id(\"add-to-cart-button\")\n",
    "element.click()\n",
    "\n",
    "cur_url = driver.current_url\n",
    "\n",
    "for i in range(1):\n",
    "    # print(i)\n",
    "    time.sleep(1)\n",
    "    # driver.refresh()\n",
    "    \n"
   ]
  },
  {
   "cell_type": "code",
   "execution_count": null,
   "metadata": {},
   "outputs": [],
   "source": []
  }
 ],
 "metadata": {
  "kernelspec": {
   "display_name": "Python 3.7.4 64-bit ('base': conda)",
   "language": "python",
   "name": "python37464bitbaseconda5e623a37214d4771b9ad7f37e3a0bc43"
  },
  "language_info": {
   "codemirror_mode": {
    "name": "ipython",
    "version": 3
   },
   "file_extension": ".py",
   "mimetype": "text/x-python",
   "name": "python",
   "nbconvert_exporter": "python",
   "pygments_lexer": "ipython3",
   "version": "3.7.4"
  }
 },
 "nbformat": 4,
 "nbformat_minor": 2
}
