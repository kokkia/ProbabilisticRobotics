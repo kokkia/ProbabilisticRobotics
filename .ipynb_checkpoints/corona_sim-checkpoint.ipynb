{
 "cells": [
  {
   "cell_type": "code",
   "execution_count": 1,
   "metadata": {},
   "outputs": [
    {
     "ename": "SyntaxError",
     "evalue": "invalid syntax (differential_equation.py, line 57)",
     "output_type": "error",
     "traceback": [
      "Traceback \u001b[1;36m(most recent call last)\u001b[0m:\n",
      "  File \u001b[0;32m\"C:\\Users\\aizaw\\Anaconda3\\lib\\site-packages\\IPython\\core\\interactiveshell.py\"\u001b[0m, line \u001b[0;32m3326\u001b[0m, in \u001b[0;35mrun_code\u001b[0m\n    exec(code_obj, self.user_global_ns, self.user_ns)\n",
      "  File \u001b[0;32m\"<ipython-input-1-65cb7b690883>\"\u001b[0m, line \u001b[0;32m5\u001b[0m, in \u001b[0;35m<module>\u001b[0m\n    import kal_python as kal\n",
      "\u001b[1;36m  File \u001b[1;32m\"C:\\Users\\aizaw\\Documents\\Python Scripts\\ProbabilisticRobotics\\kal_python\\__init__.py\"\u001b[1;36m, line \u001b[1;32m6\u001b[1;36m, in \u001b[1;35m<module>\u001b[1;36m\u001b[0m\n\u001b[1;33m    from .differential_equation import *\u001b[0m\n",
      "\u001b[1;36m  File \u001b[1;32m\"C:\\Users\\aizaw\\Documents\\Python Scripts\\ProbabilisticRobotics\\kal_python\\differential_equation.py\"\u001b[1;36m, line \u001b[1;32m57\u001b[0m\n\u001b[1;33m    self.runge_kutta():\u001b[0m\n\u001b[1;37m                       ^\u001b[0m\n\u001b[1;31mSyntaxError\u001b[0m\u001b[1;31m:\u001b[0m invalid syntax\n"
     ]
    }
   ],
   "source": [
    "import numpy as np\n",
    "import matplotlib.pyplot as plt\n",
    "import pandas as pd\n",
    "import copy\n",
    "import kal_python as kal\n",
    "\n",
    "\n",
    "sigma = 1.0/4.6/10/2\n",
    "beta = 2.2\n",
    "xi = 1.0/280\n",
    "gamma = 1.0/5.0/4\n",
    "delta = 0.001\n",
    "h = 1 # 1サイクルあたりの日数\n",
    "T = 90 # 日数\n",
    "\n",
    "def seirs(x):\n",
    "    S = x[0]\n",
    "    E = x[1]\n",
    "    I = x[2]\n",
    "    R = N-S-E-I\n",
    "    dS = mu * N - beta * S * I / N + xi * R - nu * S\n",
    "    dE = beta * S * I / N - sigma * E - nu * E\n",
    "    dI = sigma * E - gamma * I - nu * I\n",
    "    dx = np.array([dS,dE,dI])\n",
    "    return dx\n",
    "\n",
    "class function:\n",
    "    def __init__(self):\n",
    "        self.A = np.array([[-sigma, beta, 0, 0],\n",
    "                          [sigma, -(gamma+delta), 0, 0],\n",
    "                          [0, gamma, -xi, 0],\n",
    "                          [0, delta, 0, 0]])\n",
    "        \n",
    "    def update(self,t,x):\n",
    "        dx = self.A.dot(x)\n",
    "        return dx\n",
    "\n",
    "x0 = np.array([[0],[2],[0],[0]]) # 初期条件\n",
    "corona = function()\n",
    "diff_eq = kal.differential_equation(4,corona,h,T,0,x0)\n",
    "diff_eq.solve()\n",
    "\n",
    "x_fig = diff_eq.x[1:]\n",
    "fig = kal.t_x_plot(3,T)\n",
    "fig.set_label([\"I\",\"R\",\"D\"])\n",
    "fig.show(diff_eq.t,x_fig)\n"
   ]
  },
  {
   "cell_type": "code",
   "execution_count": null,
   "metadata": {},
   "outputs": [],
   "source": [
    "# データ読み込み\n",
    "t = np.arange(0,T,1)\n",
    "data = pd.read_csv('time_series_covid19/time_series_covid19_JPN.csv',header=None)\n",
    "y = np.array(data)\n",
    "# 描画\n",
    "fig = kal.t_x_plot(3,y.shape[1])\n",
    "fig.show(t[:y.shape[1]],y[:,:y.shape[1]])\n",
    "y_data = copy.deepcopy(y)\n"
   ]
  },
  {
   "cell_type": "code",
   "execution_count": null,
   "metadata": {},
   "outputs": [],
   "source": [
    "data.shape"
   ]
  },
  {
   "cell_type": "code",
   "execution_count": null,
   "metadata": {},
   "outputs": [],
   "source": []
  }
 ],
 "metadata": {
  "kernelspec": {
   "display_name": "Python 3.7.4 64-bit ('base': conda)",
   "language": "python",
   "name": "python37464bitbaseconda5e623a37214d4771b9ad7f37e3a0bc43"
  },
  "language_info": {
   "codemirror_mode": {
    "name": "ipython",
    "version": 3
   },
   "file_extension": ".py",
   "mimetype": "text/x-python",
   "name": "python",
   "nbconvert_exporter": "python",
   "pygments_lexer": "ipython3",
   "version": "3.7.4"
  }
 },
 "nbformat": 4,
 "nbformat_minor": 2
}
