{
 "cells": [
  {
   "cell_type": "code",
   "execution_count": 13,
   "metadata": {},
   "outputs": [
    {
     "data": {
      "image/png": "[encoded data removed]",
      "text/plain": [
       "<Figure size 432x288 with 1 Axes>"
      ]
     },
     "metadata": {
      "needs_background": "light"
     },
     "output_type": "display_data"
    }
   ],
   "source": [
    "import numpy as np\n",
    "import matplotlib.pyplot as plt\n",
    "# import pandas as pd\n",
    "import copy\n",
    "import kal_python as kal\n",
    "\n",
    "t = 0\n",
    "dt = 0.01\n",
    "T = 2\n",
    "xs = 0\n",
    "xg = 1\n",
    "\n",
    "t_log = np.zeros(int(T/dt))\n",
    "x_log = np.zeros([1,int(T/dt)])\n",
    "\n",
    "def traj_liner(t,T,xs,xg):\n",
    "    tau = t/T\n",
    "    x = xs+(xg-xs)*tau\n",
    "    return x\n",
    "\n",
    "def traj_cos(t,T,xs,xg):\n",
    "    tau = t/T\n",
    "    x = xs+(xg-xs)/2.0*(1-np.cos(tau*np.pi))\n",
    "    return x\n",
    "\n",
    "def traj_jerk(t,T,xs,xg):\n",
    "    tau = t/T\n",
    "    x = xs + (xg-xs)*(10*tau**3-15*tau**4+6*tau**5)\n",
    "    return x\n",
    "\n",
    "for i in range(int(T/dt)):\n",
    "    t_log[i] = t\n",
    "#     x_log[0,i] = traj_liner(t,T,xs,xg)\n",
    "#     x_log[0,i] = traj_cos(t,T,xs,xg)\n",
    "    x_log[0,i] = traj_jerk(t,T,xs,xg)\n",
    "    t += dt\n",
    "\n",
    "# plot\n",
    "fig = kal.t_x_plot(1,int(T/dt))\n",
    "fig.show(t_log,x_log)"
   ]
  },
  {
   "cell_type": "code",
   "execution_count": null,
   "metadata": {},
   "outputs": [],
   "source": []
  }
 ],
 "metadata": {
  "kernelspec": {
   "display_name": "Python 3.7.4 64-bit ('base': conda)",
   "language": "python",
   "name": "python37464bitbaseconda5e623a37214d4771b9ad7f37e3a0bc43"
  },
  "language_info": {
   "codemirror_mode": {
    "name": "ipython",
    "version": 3
   },
   "file_extension": ".py",
   "mimetype": "text/x-python",
   "name": "python",
   "nbconvert_exporter": "python",
   "pygments_lexer": "ipython3",
   "version": "3.7.4"
  }
 },
 "nbformat": 4,
 "nbformat_minor": 2
}
