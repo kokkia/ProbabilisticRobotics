{
 "cells": [
  {
   "cell_type": "code",
   "execution_count": null,
   "metadata": {},
   "outputs": [],
   "source": [
    "#%matplotlib notebook\n",
    "%matplotlib nbagg\n",
    "import matplotlib.pyplot as plt\n",
    "import numpy as np\n",
    "#import math\n",
    "#import time\n",
    "import kal_python as kal\n",
    "\n",
    "\n",
    "l_bar = 1.0  # length of bar\n",
    "M = 1.0  # [kg]\n",
    "m = 0.3  # [kg]\n",
    "g = 9.8  # [m/s^2]\n",
    "\n",
    "Q = np.diag([1, 0.01, 1.0, 0.01])\n",
    "R = np.diag([0.01])\n",
    "QQ = np.diag([1, 1, 1, 1,10])\n",
    "RR = np.diag([0.01])\n",
    "Qmpc = np.diag([20, 0.01, 100.0, 0.01])\n",
    "nx = 4\n",
    "nu = 1   \n",
    "T = 5#10  \n",
    "dt = 0.01\n",
    "g = 9.8\n",
    "\n",
    "ip = kal.inverted_pendulum_cart_model(M,m,l_bar)\n",
    "ss = ip.get_ss_model()\n",
    "dss = ip.get_dss_model(dt)\n",
    "\n",
    "#controller = kal.no_controller(0)# no control no life\n",
    "#controller = kal.LQR_controller(ss,Q,R)\n",
    "#controller = kal.servo_controller(ss,QQ,R,dt)\n",
    "controller = kal.mpc_controller(dss,Qmpc,R,100)\n",
    "\n",
    "\n",
    "x0 = np.array([0,0,-0.3,0])\n",
    "\n",
    "f = kal.inverted_pendulum_cart_function(M,m,l_bar,x0)\n",
    "sim = kal.simulator(T,dt,controller,f,x0,False)\n",
    "\n",
    "sim.simulation()\n",
    "fig = kal.t_x_plot(4,int(T/dt))\n",
    "fig.show(sim.t_log,sim.x_log)\n",
    "\n",
    "\n"
   ]
  },
  {
   "cell_type": "code",
   "execution_count": 1,
   "metadata": {},
   "outputs": [
    {
     "ename": "NameError",
     "evalue": "name 'sim' is not defined",
     "output_type": "error",
     "traceback": [
      "\u001b[1;31m---------------------------------------------------------------------------\u001b[0m",
      "\u001b[1;31mNameError\u001b[0m                                 Traceback (most recent call last)",
      "\u001b[1;32m<ipython-input-1-cb5693abd3dc>\u001b[0m in \u001b[0;36m<module>\u001b[1;34m\u001b[0m\n\u001b[1;32m----> 1\u001b[1;33m \u001b[0msim\u001b[0m\u001b[1;33m.\u001b[0m\u001b[0mdraw\u001b[0m\u001b[1;33m(\u001b[0m\u001b[1;33m)\u001b[0m\u001b[1;33m\u001b[0m\u001b[1;33m\u001b[0m\u001b[0m\n\u001b[0m",
      "\u001b[1;31mNameError\u001b[0m: name 'sim' is not defined"
     ]
    }
   ],
   "source": [
    "sim.draw()"
   ]
  },
  {
   "cell_type": "code",
   "execution_count": null,
   "metadata": {},
   "outputs": [],
   "source": []
  },
  {
   "cell_type": "code",
   "execution_count": null,
   "metadata": {},
   "outputs": [],
   "source": []
  }
 ],
 "metadata": {
  "kernelspec": {
   "display_name": "Python 3.7.4 64-bit ('base': conda)",
   "language": "python",
   "name": "python37464bitbaseconda5e623a37214d4771b9ad7f37e3a0bc43"
  },
  "language_info": {
   "codemirror_mode": {
    "name": "ipython",
    "version": 3
   },
   "file_extension": ".py",
   "mimetype": "text/x-python",
   "name": "python",
   "nbconvert_exporter": "python",
   "pygments_lexer": "ipython3",
   "version": "3.7.4"
  }
 },
 "nbformat": 4,
 "nbformat_minor": 2
}
