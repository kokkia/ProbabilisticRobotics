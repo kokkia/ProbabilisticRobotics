{
 "cells": [
  {
   "cell_type": "code",
   "execution_count": 65,
   "metadata": {},
   "outputs": [
    {
     "data": {
      "image/png": "[encoded data removed]",
      "text/plain": [
       "<Figure size 432x288 with 1 Axes>"
      ]
     },
     "metadata": {
      "needs_background": "light"
     },
     "output_type": "display_data"
    }
   ],
   "source": [
    "\n",
    "import numpy as np\n",
    "import matplotlib.pyplot as plt\n",
    "\n",
    "\n",
    "beta = 2.2\n",
    "sigma = 1.0/4.6\n",
    "xi = 1.0/40.0\n",
    "mu = 0.0\n",
    "nu = 0.0\n",
    "gamma = 1.0/5.0\n",
    "N = 10 ** 9 # 人口\n",
    "# x = np.array(s,e,i)\n",
    "x0 = np.array([N-100,100,0])\n",
    "h = 1 # 1サイクルあたりの日数\n",
    "T = 200 # 日数\n",
    "\n",
    "# x = np.array(s,e,i,r)\n",
    "\n",
    "def seirs(x):\n",
    "    S = x[0]\n",
    "    E = x[1]\n",
    "    I = x[2]\n",
    "    R = N-S-E-I\n",
    "    dS = mu * N - beta * S * I / N + xi * R - nu * S\n",
    "    dE = beta * S * I / N - sigma * E - nu * E\n",
    "    dI = sigma * E - gamma * I - nu * I\n",
    "    dx = np.array([dS,dE,dI])\n",
    "    return dx\n",
    "\n",
    "# t = np.linspace(0, 1, 1000)\n",
    "t = np.zeros(T)# 日にち\n",
    "S = np.zeros(T)\n",
    "E = np.zeros(T)\n",
    "I = np.zeros(T)\n",
    "R = np.zeros(T)\n",
    "\n",
    "x = x0\n",
    "S[0] = x[0]\n",
    "E[0] = x[1]\n",
    "I[0] = x[2]\n",
    "R[0] = N-x[0]-x[1]-x[2]\n",
    "\n",
    "for i in range(1,T):\n",
    "    t[i] = h * i\n",
    "    dx = seirs(x)\n",
    "    x = x + h * dx # Euler法 @todo:ルンゲクッタ法に変更\n",
    "    S[i] = x[0]\n",
    "    E[i] = x[1]\n",
    "    I[i] = x[2]\n",
    "    R[i] = N-x[0]-x[1]-x[2]\n",
    "    # print(dx)\n",
    "\n",
    "    \n",
    "\n",
    "fig, ax = plt.subplots()\n",
    "\n",
    "y1 = S\n",
    "y2 = E \n",
    "y3 = I\n",
    "y4 = R\n",
    "\n",
    "c1,c2,c3,c4 = \"blue\",\"green\",\"red\",\"black\"      # 各プロットの色\n",
    "l1,l2,l3,l4 = \"S\",\"E\",\"I\",\"R\"   # 各ラベル\n",
    "\n",
    "ax.set_xlabel('t [day]')  # x軸ラベル\n",
    "ax.set_ylabel('y [people]')  # y軸ラベル\n",
    "ax.set_title(\"corona\") # グラフタイトル\n",
    "# ax.set_aspect('equal') # スケールを揃える\n",
    "ax.grid()            # 罫線\n",
    "#ax.set_xlim([-10, 10]) # x方向の描画範囲を指定\n",
    "#ax.set_ylim([0, 1])    # y方向の描画範囲を指定\n",
    "ax.plot(t, y1, color=c1, label=l1)\n",
    "ax.plot(t, y2, color=c2, label=l2)\n",
    "ax.plot(t, y3, color=c3, label=l3)\n",
    "ax.plot(t, y4, color=c4, label=l4)\n",
    "ax.legend(loc=0)    # 凡例\n",
    "fig.tight_layout()  # レイアウトの設定\n",
    "# plt.savefig('hoge.png') # 画像の保存\n",
    "plt.show()\n",
    "   \n",
    "\n"
   ]
  },
  {
   "cell_type": "code",
   "execution_count": null,
   "metadata": {},
   "outputs": [],
   "source": []
  },
  {
   "cell_type": "code",
   "execution_count": null,
   "metadata": {},
   "outputs": [],
   "source": []
  }
 ],
 "metadata": {
  "kernelspec": {
   "display_name": "Python 3.7.4 64-bit ('base': conda)",
   "language": "python",
   "name": "python37464bitbaseconda5e623a37214d4771b9ad7f37e3a0bc43"
  },
  "language_info": {
   "codemirror_mode": {
    "name": "ipython",
    "version": 3
   },
   "file_extension": ".py",
   "mimetype": "text/x-python",
   "name": "python",
   "nbconvert_exporter": "python",
   "pygments_lexer": "ipython3",
   "version": "3.7.4"
  }
 },
 "nbformat": 4,
 "nbformat_minor": 2
}
